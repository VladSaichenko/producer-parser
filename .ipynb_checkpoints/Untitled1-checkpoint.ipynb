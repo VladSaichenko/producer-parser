{
 "cells": [
  {
   "cell_type": "code",
   "execution_count": 52,
   "metadata": {},
   "outputs": [],
   "source": [
    "import requests\n",
    "import pandas as pd\n",
    "import asyncio\n",
    "import aiohttp\n",
    "import time\n",
    "import openpyxl\n",
    "\n",
    "from IPython.display import clear_output\n",
    "from bs4 import BeautifulSoup"
   ]
  },
  {
   "cell_type": "code",
   "execution_count": null,
   "metadata": {},
   "outputs": [],
   "source": [
    "def divide_on_groups(n, array):\n",
    "    avg = len(array)//n\n",
    "    new_list = []\n",
    "    for i in range(0, len(array), avg):\n",
    "        new_list.append(array[i:i+avg])\n",
    "    return new_list "
   ]
  },
  {
   "cell_type": "code",
   "execution_count": 3,
   "metadata": {},
   "outputs": [],
   "source": [
    "parsed_urls = []"
   ]
  },
  {
   "cell_type": "code",
   "execution_count": 1,
   "metadata": {},
   "outputs": [],
   "source": [
    "urls = [f'https://www.rosfirm.ru/bytovye-uslugi-1650?rubrik_id=409&search=1&show_list=1&filter_page=catalog&full_filter_search=1&query_start:int={i}' for i in range(0, 76400, 20)]"
   ]
  },
  {
   "cell_type": "code",
   "execution_count": 5,
   "metadata": {},
   "outputs": [
    {
     "data": {
      "text/plain": [
       "200"
      ]
     },
     "execution_count": 5,
     "metadata": {},
     "output_type": "execute_result"
    }
   ],
   "source": [
    "requests.get('https://www.rosfirm.ru/bytovye-uslugi-1650?rubrik_id=409&search=1&show_list=1&filter_page=catalog&full_filter_search=1&query_start:int=240').status_code"
   ]
  },
  {
   "cell_type": "code",
   "execution_count": 59,
   "metadata": {},
   "outputs": [],
   "source": [
    "def count_pages(main_url):\n",
    "    url = main_url+'?rubrik_id=1138&search=1&show_list=1&filter_page=catalog&full_filter_search=1&query_start:int='\n",
    "    counter = 0\n",
    "    code = 200\n",
    "    while code==200:\n",
    "        print(counter)\n",
    "        code = requests.get(url+str(counter)).status_code\n",
    "        counter += 60\n",
    "    return counter"
   ]
  },
  {
   "cell_type": "code",
   "execution_count": 11,
   "metadata": {},
   "outputs": [],
   "source": [
    "URLS = []"
   ]
  },
  {
   "cell_type": "code",
   "execution_count": 12,
   "metadata": {},
   "outputs": [],
   "source": [
    "for i, url in enumerate(urls):\n",
    "    print(f'{i}/{len(urls)}')\n",
    "    try:\n",
    "        main_response = requests.get(url).content\n",
    "    except Exception:\n",
    "        time.sleep(5)\n",
    "    soup = BeautifulSoup(main_response)\n",
    "    elements = soup.find_all('a', {'itemprop': 'url'})\n",
    "    hrefs = [i['href'][8:] for i in elements]\n",
    "    URLS +=hrefs\n",
    "    clear_output()"
   ]
  },
  {
   "cell_type": "markdown",
   "metadata": {},
   "source": [
    "## ASYNC parsing urls "
   ]
  },
  {
   "cell_type": "code",
   "execution_count": null,
   "metadata": {},
   "outputs": [],
   "source": [
    "async def get_content(url):\n",
    "    async with aiohttp.ClientSession() as session:\n",
    "        async with session.get(url) as resp:\n",
    "            content = await resp.read()\n",
    "            return content\n",
    "        \n",
    "async def get_links(content):\n",
    "    global URLS\n",
    "    soup = await BeautifulSoup(response)\n",
    "    elements = await soup.find_all('a', {'itemprop': 'url'})\n",
    "    hrefs = [i['href'][8:] for i in elements]\n",
    "    URLS+=hrefs\n",
    "    \n",
    "    \n",
    "async def scrape_task(url):\n",
    "    content = await get_content(url)\n",
    "    await get_links(content)\n",
    "    \n",
    "async def main():\n",
    "    for i, url in enumerate(urls):\n",
    "        print(f'{i}/{len(urls)}')\n",
    "        tasks = [scrape_task(url) for url in url]\n",
    "        await asyncio.wait(tasks)\n",
    "        clear_output()\n",
    "await main()"
   ]
  },
  {
   "cell_type": "code",
   "execution_count": null,
   "metadata": {},
   "outputs": [],
   "source": [
    "data = []"
   ]
  },
  {
   "cell_type": "code",
   "execution_count": null,
   "metadata": {},
   "outputs": [],
   "source": [
    "for url in URLS:\n",
    "    response = requests.get('https://'+url+'/contacts.htm').content\n",
    "    soup = BeautifulSoup(response, 'html.parser')\n",
    "    \n",
    "    name = soup.find('span', {'class':'fn org'}).next_element\n",
    "\n",
    "    postal_code = soup.find('span', {'class':'postal-code'})\n",
    "    if postal_code:\n",
    "        postal_code = postal_code.next_element\n",
    "\n",
    "    address = soup.find('span', {'class':'region'}).next_element + soup.find('span', {'class':'locality'}).next_element + soup.find('span', {'class':'street-address'}).next_element\n",
    "    website = soup.find('a', {'class':'company_site_link'})\n",
    "    if website:\n",
    "        website = website.next_element\n",
    "\n",
    "    other = soup.find_all('span', {'class': 'caption'})\n",
    "    director = ownership = inn = ''\n",
    "    for elm in other:\n",
    "        if elm.next_element=='Руководитель:':\n",
    "            director = elm.next_element.next_element\n",
    "        if elm.next_element=='Форма собственности:':\n",
    "            ownership = elm.next_element.next_element\n",
    "        if elm.next_element=='ИНН:':\n",
    "            inn = elm.next_element.next_element\n",
    "\n",
    "    telefon = soup.find_all('span', {'class':'tel'})\n",
    "    phone_nums = []\n",
    "    for num in telefon:\n",
    "        phone_nums.append(num.next_element)\n",
    "    \n",
    "    data.append(('Бытовые услуги', ownership, name, inn, director, phone_nums, postal_code, address, website))"
   ]
  },
  {
   "cell_type": "code",
   "execution_count": 20,
   "metadata": {},
   "outputs": [],
   "source": [
    "response = requests.get('https://krov-izol.rosfirm.ru/contacts.htm').content\n",
    "soup = BeautifulSoup(response, 'html.parser')\n"
   ]
  },
  {
   "cell_type": "code",
   "execution_count": 91,
   "metadata": {},
   "outputs": [
    {
     "name": "stdout",
     "output_type": "stream",
     "text": [
      "('Бытовые услуги', '', 'АРМОС', ' 6316165183', '', ['+7 (846) 991-89-02', '+7 (960) 810-17-00', '+7 (846) 991-89-02', '+7 (960) 810-17-00'], '443045', 'Самара и Самарская областьСамараул. Съездовская, 10/А', None)\n"
     ]
    }
   ],
   "source": [
    "response = requests.get('https://'+url+'/contacts.htm').content\n",
    "soup = BeautifulSoup(response, 'html.parser')\n",
    "\n",
    "name = soup.find('span', {'class':'fn org'}).next_element\n",
    "\n",
    "postal_code = soup.find('span', {'class':'postal-code'})\n",
    "if postal_code:\n",
    "    postal_code = postal_code.next_element\n",
    "\n",
    "address = soup.find('span', {'class':'region'}).next_element + soup.find('span', {'class':'locality'}).next_element + soup.find('span', {'class':'street-address'}).next_element\n",
    "website = soup.find('a', {'class':'company_site_link'})\n",
    "if website:\n",
    "    website = website.next_element\n",
    "\n",
    "other = soup.find_all('span', {'class': 'caption'})\n",
    "director = ownership = inn = ''\n",
    "for elm in other:\n",
    "    if elm.next_element=='Руководитель:':\n",
    "        director = elm.next_element.next_element\n",
    "    if elm.next_element=='Форма собственности:':\n",
    "        ownership = elm.next_element.next_element\n",
    "    if elm.next_element=='ИНН:':\n",
    "        inn = elm.next_element.next_element\n",
    "\n",
    "telefon = soup.find_all('span', {'class':'tel'})\n",
    "phone_nums = []\n",
    "for num in telefon:\n",
    "    phone_nums.append(num.next_element)\n",
    "\n",
    "print(('Бытовые услуги', ownership, name, inn, director, phone_nums, postal_code, address, website))"
   ]
  },
  {
   "cell_type": "code",
   "execution_count": null,
   "metadata": {},
   "outputs": [],
   "source": [
    "data"
   ]
  },
  {
   "cell_type": "code",
   "execution_count": null,
   "metadata": {},
   "outputs": [],
   "source": []
  }
 ],
 "metadata": {
  "kernelspec": {
   "display_name": "Python 3",
   "language": "python",
   "name": "python3"
  },
  "language_info": {
   "codemirror_mode": {
    "name": "ipython",
    "version": 3
   },
   "file_extension": ".py",
   "mimetype": "text/x-python",
   "name": "python",
   "nbconvert_exporter": "python",
   "pygments_lexer": "ipython3",
   "version": "3.8.5"
  }
 },
 "nbformat": 4,
 "nbformat_minor": 4
}
