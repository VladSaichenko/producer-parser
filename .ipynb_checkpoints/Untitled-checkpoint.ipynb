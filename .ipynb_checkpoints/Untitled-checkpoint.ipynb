{
 "cells": [
  {
   "cell_type": "code",
   "execution_count": 21,
   "metadata": {},
   "outputs": [],
   "source": [
    "import requests\n",
    "from bs4 import BeautifulSoup\n",
    "import pandas as pd\n",
    "from IPython.display import clear_output\n",
    "import openpyxl\n",
    "import lxml\n",
    "import asyncio\n",
    "import aiohttp"
   ]
  },
  {
   "cell_type": "code",
   "execution_count": 5,
   "metadata": {},
   "outputs": [],
   "source": [
    "urls = [f'https://productcenter.ru/producers/page-{i}' for i in range(1, 353)]"
   ]
  },
  {
   "cell_type": "code",
   "execution_count": 12,
   "metadata": {},
   "outputs": [],
   "source": [
    "def divide_on_groups(n, array):\n",
    "    avg = len(array)//n\n",
    "    new_list = []\n",
    "    for i in range(0, len(array), avg):\n",
    "        new_list.append(array[i:i+avg])\n",
    "    return new_list "
   ]
  },
  {
   "cell_type": "code",
   "execution_count": 6,
   "metadata": {},
   "outputs": [],
   "source": [
    "parsing_hrefs = []"
   ]
  },
  {
   "cell_type": "code",
   "execution_count": 7,
   "metadata": {},
   "outputs": [],
   "source": [
    "for i, url in enumerate(urls):\n",
    "    print(f'{i}/{len(urls)}')\n",
    "    try:\n",
    "        response = requests.get(url)\n",
    "    except Exception:\n",
    "        time.sleep(5)\n",
    "    soup = BeautifulSoup(response.content, 'html.parser')\n",
    "    elements = soup.find_all('a', {'target': '_blank', 'class':'link'})\n",
    "    for element in elements:\n",
    "        parsing_hrefs.append(element['href'])\n",
    "    clear_output()"
   ]
  },
  {
   "cell_type": "code",
   "execution_count": 56,
   "metadata": {},
   "outputs": [
    {
     "name": "stderr",
     "output_type": "stream",
     "text": [
      "Task exception was never retrieved\n",
      "future: <Task finished name='Task-371' coro=<scrape_task() done, defined at <ipython-input-52-f53e0430fefe>:34> exception=ClientConnectorError(ConnectionKey(host='productcenter.ru', port=443, is_ssl=True, ssl=None, proxy=None, proxy_auth=None, proxy_headers_hash=None), TimeoutError(10060, \"Connect call failed ('92.63.110.175', 443)\"))>\n",
      "Traceback (most recent call last):\n",
      "  File \"c:\\users\\cooda\\appdata\\local\\programs\\python\\python38-32\\lib\\site-packages\\aiohttp\\connector.py\", line 936, in _wrap_create_connection\n",
      "    return await self._loop.create_connection(*args, **kwargs)  # type: ignore  # noqa\n",
      "  File \"c:\\users\\cooda\\appdata\\local\\programs\\python\\python38-32\\lib\\asyncio\\base_events.py\", line 1025, in create_connection\n",
      "    raise exceptions[0]\n",
      "  File \"c:\\users\\cooda\\appdata\\local\\programs\\python\\python38-32\\lib\\asyncio\\base_events.py\", line 1010, in create_connection\n",
      "    sock = await self._connect_sock(\n",
      "  File \"c:\\users\\cooda\\appdata\\local\\programs\\python\\python38-32\\lib\\asyncio\\base_events.py\", line 924, in _connect_sock\n",
      "    await self.sock_connect(sock, address)\n",
      "  File \"c:\\users\\cooda\\appdata\\local\\programs\\python\\python38-32\\lib\\asyncio\\selector_events.py\", line 494, in sock_connect\n",
      "    return await fut\n",
      "  File \"c:\\users\\cooda\\appdata\\local\\programs\\python\\python38-32\\lib\\asyncio\\selector_events.py\", line 526, in _sock_connect_cb\n",
      "    raise OSError(err, f'Connect call failed {address}')\n",
      "TimeoutError: [Errno 10060] Connect call failed ('92.63.110.175', 443)\n",
      "\n",
      "The above exception was the direct cause of the following exception:\n",
      "\n",
      "Traceback (most recent call last):\n",
      "  File \"<ipython-input-52-f53e0430fefe>\", line 35, in scrape_task\n",
      "    content = await get_content(url)\n",
      "  File \"<ipython-input-52-f53e0430fefe>\", line 5, in get_content\n",
      "    async with session.get(url) as resp:\n",
      "  File \"c:\\users\\cooda\\appdata\\local\\programs\\python\\python38-32\\lib\\site-packages\\aiohttp\\client.py\", line 1012, in __aenter__\n",
      "    self._resp = await self._coro\n",
      "  File \"c:\\users\\cooda\\appdata\\local\\programs\\python\\python38-32\\lib\\site-packages\\aiohttp\\client.py\", line 480, in _request\n",
      "    conn = await self._connector.connect(\n",
      "  File \"c:\\users\\cooda\\appdata\\local\\programs\\python\\python38-32\\lib\\site-packages\\aiohttp\\connector.py\", line 523, in connect\n",
      "    proto = await self._create_connection(req, traces, timeout)\n",
      "  File \"c:\\users\\cooda\\appdata\\local\\programs\\python\\python38-32\\lib\\site-packages\\aiohttp\\connector.py\", line 858, in _create_connection\n",
      "    _, proto = await self._create_direct_connection(\n",
      "  File \"c:\\users\\cooda\\appdata\\local\\programs\\python\\python38-32\\lib\\site-packages\\aiohttp\\connector.py\", line 1004, in _create_direct_connection\n",
      "    raise last_exc\n",
      "  File \"c:\\users\\cooda\\appdata\\local\\programs\\python\\python38-32\\lib\\site-packages\\aiohttp\\connector.py\", line 980, in _create_direct_connection\n",
      "    transp, proto = await self._wrap_create_connection(\n",
      "  File \"c:\\users\\cooda\\appdata\\local\\programs\\python\\python38-32\\lib\\site-packages\\aiohttp\\connector.py\", line 943, in _wrap_create_connection\n",
      "    raise client_error(req.connection_key, exc) from exc\n",
      "aiohttp.client_exceptions.ClientConnectorError: Cannot connect to host productcenter.ru:443 ssl:default [Connect call failed ('92.63.110.175', 443)]\n",
      "Task exception was never retrieved\n",
      "future: <Task finished name='Task-372' coro=<scrape_task() done, defined at <ipython-input-52-f53e0430fefe>:34> exception=ClientConnectorError(ConnectionKey(host='productcenter.ru', port=443, is_ssl=True, ssl=None, proxy=None, proxy_auth=None, proxy_headers_hash=None), TimeoutError(10060, \"Connect call failed ('92.63.110.175', 443)\"))>\n",
      "Traceback (most recent call last):\n",
      "  File \"c:\\users\\cooda\\appdata\\local\\programs\\python\\python38-32\\lib\\site-packages\\aiohttp\\connector.py\", line 936, in _wrap_create_connection\n",
      "    return await self._loop.create_connection(*args, **kwargs)  # type: ignore  # noqa\n",
      "  File \"c:\\users\\cooda\\appdata\\local\\programs\\python\\python38-32\\lib\\asyncio\\base_events.py\", line 1025, in create_connection\n",
      "    raise exceptions[0]\n",
      "  File \"c:\\users\\cooda\\appdata\\local\\programs\\python\\python38-32\\lib\\asyncio\\base_events.py\", line 1010, in create_connection\n",
      "    sock = await self._connect_sock(\n",
      "  File \"c:\\users\\cooda\\appdata\\local\\programs\\python\\python38-32\\lib\\asyncio\\base_events.py\", line 924, in _connect_sock\n",
      "    await self.sock_connect(sock, address)\n",
      "  File \"c:\\users\\cooda\\appdata\\local\\programs\\python\\python38-32\\lib\\asyncio\\selector_events.py\", line 494, in sock_connect\n",
      "    return await fut\n",
      "  File \"c:\\users\\cooda\\appdata\\local\\programs\\python\\python38-32\\lib\\asyncio\\selector_events.py\", line 526, in _sock_connect_cb\n",
      "    raise OSError(err, f'Connect call failed {address}')\n",
      "TimeoutError: [Errno 10060] Connect call failed ('92.63.110.175', 443)\n",
      "\n",
      "The above exception was the direct cause of the following exception:\n",
      "\n",
      "Traceback (most recent call last):\n",
      "  File \"<ipython-input-52-f53e0430fefe>\", line 35, in scrape_task\n",
      "    content = await get_content(url)\n",
      "  File \"<ipython-input-52-f53e0430fefe>\", line 5, in get_content\n",
      "    async with session.get(url) as resp:\n",
      "  File \"c:\\users\\cooda\\appdata\\local\\programs\\python\\python38-32\\lib\\site-packages\\aiohttp\\client.py\", line 1012, in __aenter__\n",
      "    self._resp = await self._coro\n",
      "  File \"c:\\users\\cooda\\appdata\\local\\programs\\python\\python38-32\\lib\\site-packages\\aiohttp\\client.py\", line 480, in _request\n",
      "    conn = await self._connector.connect(\n",
      "  File \"c:\\users\\cooda\\appdata\\local\\programs\\python\\python38-32\\lib\\site-packages\\aiohttp\\connector.py\", line 523, in connect\n",
      "    proto = await self._create_connection(req, traces, timeout)\n",
      "  File \"c:\\users\\cooda\\appdata\\local\\programs\\python\\python38-32\\lib\\site-packages\\aiohttp\\connector.py\", line 858, in _create_connection\n",
      "    _, proto = await self._create_direct_connection(\n",
      "  File \"c:\\users\\cooda\\appdata\\local\\programs\\python\\python38-32\\lib\\site-packages\\aiohttp\\connector.py\", line 1004, in _create_direct_connection\n",
      "    raise last_exc\n",
      "  File \"c:\\users\\cooda\\appdata\\local\\programs\\python\\python38-32\\lib\\site-packages\\aiohttp\\connector.py\", line 980, in _create_direct_connection\n",
      "    transp, proto = await self._wrap_create_connection(\n",
      "  File \"c:\\users\\cooda\\appdata\\local\\programs\\python\\python38-32\\lib\\site-packages\\aiohttp\\connector.py\", line 943, in _wrap_create_connection\n",
      "    raise client_error(req.connection_key, exc) from exc\n",
      "aiohttp.client_exceptions.ClientConnectorError: Cannot connect to host productcenter.ru:443 ssl:default [Connect call failed ('92.63.110.175', 443)]\n",
      "Task exception was never retrieved\n",
      "future: <Task finished name='Task-376' coro=<scrape_task() done, defined at <ipython-input-53-9e2e1285753d>:35> exception=ClientConnectorError(ConnectionKey(host='productcenter.ru', port=443, is_ssl=True, ssl=None, proxy=None, proxy_auth=None, proxy_headers_hash=None), OSError(10051, \"Connect call failed ('92.63.110.175', 443)\"))>\n",
      "Traceback (most recent call last):\n",
      "  File \"c:\\users\\cooda\\appdata\\local\\programs\\python\\python38-32\\lib\\site-packages\\aiohttp\\connector.py\", line 936, in _wrap_create_connection\n",
      "    return await self._loop.create_connection(*args, **kwargs)  # type: ignore  # noqa\n",
      "  File \"c:\\users\\cooda\\appdata\\local\\programs\\python\\python38-32\\lib\\asyncio\\base_events.py\", line 1025, in create_connection\n",
      "    raise exceptions[0]\n",
      "  File \"c:\\users\\cooda\\appdata\\local\\programs\\python\\python38-32\\lib\\asyncio\\base_events.py\", line 1010, in create_connection\n",
      "    sock = await self._connect_sock(\n",
      "  File \"c:\\users\\cooda\\appdata\\local\\programs\\python\\python38-32\\lib\\asyncio\\base_events.py\", line 924, in _connect_sock\n",
      "    await self.sock_connect(sock, address)\n",
      "  File \"c:\\users\\cooda\\appdata\\local\\programs\\python\\python38-32\\lib\\asyncio\\selector_events.py\", line 494, in sock_connect\n",
      "    return await fut\n",
      "  File \"c:\\users\\cooda\\appdata\\local\\programs\\python\\python38-32\\lib\\asyncio\\selector_events.py\", line 526, in _sock_connect_cb\n",
      "    raise OSError(err, f'Connect call failed {address}')\n",
      "OSError: [Errno 10051] Connect call failed ('92.63.110.175', 443)\n",
      "\n",
      "The above exception was the direct cause of the following exception:\n",
      "\n",
      "Traceback (most recent call last):\n",
      "  File \"<ipython-input-53-9e2e1285753d>\", line 36, in scrape_task\n",
      "    content = await get_content(url)\n",
      "  File \"<ipython-input-53-9e2e1285753d>\", line 5, in get_content\n",
      "    async with session.get(url) as resp:\n",
      "  File \"c:\\users\\cooda\\appdata\\local\\programs\\python\\python38-32\\lib\\site-packages\\aiohttp\\client.py\", line 1012, in __aenter__\n",
      "    self._resp = await self._coro\n",
      "  File \"c:\\users\\cooda\\appdata\\local\\programs\\python\\python38-32\\lib\\site-packages\\aiohttp\\client.py\", line 480, in _request\n",
      "    conn = await self._connector.connect(\n",
      "  File \"c:\\users\\cooda\\appdata\\local\\programs\\python\\python38-32\\lib\\site-packages\\aiohttp\\connector.py\", line 523, in connect\n",
      "    proto = await self._create_connection(req, traces, timeout)\n",
      "  File \"c:\\users\\cooda\\appdata\\local\\programs\\python\\python38-32\\lib\\site-packages\\aiohttp\\connector.py\", line 858, in _create_connection\n",
      "    _, proto = await self._create_direct_connection(\n",
      "  File \"c:\\users\\cooda\\appdata\\local\\programs\\python\\python38-32\\lib\\site-packages\\aiohttp\\connector.py\", line 1004, in _create_direct_connection\n",
      "    raise last_exc\n",
      "  File \"c:\\users\\cooda\\appdata\\local\\programs\\python\\python38-32\\lib\\site-packages\\aiohttp\\connector.py\", line 980, in _create_direct_connection\n",
      "    transp, proto = await self._wrap_create_connection(\n",
      "  File \"c:\\users\\cooda\\appdata\\local\\programs\\python\\python38-32\\lib\\site-packages\\aiohttp\\connector.py\", line 943, in _wrap_create_connection\n",
      "    raise client_error(req.connection_key, exc) from exc\n",
      "aiohttp.client_exceptions.ClientConnectorError: Cannot connect to host productcenter.ru:443 ssl:default [Connect call failed ('92.63.110.175', 443)]\n"
     ]
    },
    {
     "name": "stderr",
     "output_type": "stream",
     "text": [
      "Task exception was never retrieved\n",
      "future: <Task finished name='Task-377' coro=<scrape_task() done, defined at <ipython-input-53-9e2e1285753d>:35> exception=ClientConnectorError(ConnectionKey(host='productcenter.ru', port=443, is_ssl=True, ssl=None, proxy=None, proxy_auth=None, proxy_headers_hash=None), OSError(10051, \"Connect call failed ('92.63.110.175', 443)\"))>\n",
      "Traceback (most recent call last):\n",
      "  File \"c:\\users\\cooda\\appdata\\local\\programs\\python\\python38-32\\lib\\site-packages\\aiohttp\\connector.py\", line 936, in _wrap_create_connection\n",
      "    return await self._loop.create_connection(*args, **kwargs)  # type: ignore  # noqa\n",
      "  File \"c:\\users\\cooda\\appdata\\local\\programs\\python\\python38-32\\lib\\asyncio\\base_events.py\", line 1025, in create_connection\n",
      "    raise exceptions[0]\n",
      "  File \"c:\\users\\cooda\\appdata\\local\\programs\\python\\python38-32\\lib\\asyncio\\base_events.py\", line 1010, in create_connection\n",
      "    sock = await self._connect_sock(\n",
      "  File \"c:\\users\\cooda\\appdata\\local\\programs\\python\\python38-32\\lib\\asyncio\\base_events.py\", line 924, in _connect_sock\n",
      "    await self.sock_connect(sock, address)\n",
      "  File \"c:\\users\\cooda\\appdata\\local\\programs\\python\\python38-32\\lib\\asyncio\\selector_events.py\", line 494, in sock_connect\n",
      "    return await fut\n",
      "  File \"c:\\users\\cooda\\appdata\\local\\programs\\python\\python38-32\\lib\\asyncio\\selector_events.py\", line 526, in _sock_connect_cb\n",
      "    raise OSError(err, f'Connect call failed {address}')\n",
      "OSError: [Errno 10051] Connect call failed ('92.63.110.175', 443)\n",
      "\n",
      "The above exception was the direct cause of the following exception:\n",
      "\n",
      "Traceback (most recent call last):\n",
      "  File \"<ipython-input-53-9e2e1285753d>\", line 36, in scrape_task\n",
      "    content = await get_content(url)\n",
      "  File \"<ipython-input-53-9e2e1285753d>\", line 5, in get_content\n",
      "    async with session.get(url) as resp:\n",
      "  File \"c:\\users\\cooda\\appdata\\local\\programs\\python\\python38-32\\lib\\site-packages\\aiohttp\\client.py\", line 1012, in __aenter__\n",
      "    self._resp = await self._coro\n",
      "  File \"c:\\users\\cooda\\appdata\\local\\programs\\python\\python38-32\\lib\\site-packages\\aiohttp\\client.py\", line 480, in _request\n",
      "    conn = await self._connector.connect(\n",
      "  File \"c:\\users\\cooda\\appdata\\local\\programs\\python\\python38-32\\lib\\site-packages\\aiohttp\\connector.py\", line 523, in connect\n",
      "    proto = await self._create_connection(req, traces, timeout)\n",
      "  File \"c:\\users\\cooda\\appdata\\local\\programs\\python\\python38-32\\lib\\site-packages\\aiohttp\\connector.py\", line 858, in _create_connection\n",
      "    _, proto = await self._create_direct_connection(\n",
      "  File \"c:\\users\\cooda\\appdata\\local\\programs\\python\\python38-32\\lib\\site-packages\\aiohttp\\connector.py\", line 1004, in _create_direct_connection\n",
      "    raise last_exc\n",
      "  File \"c:\\users\\cooda\\appdata\\local\\programs\\python\\python38-32\\lib\\site-packages\\aiohttp\\connector.py\", line 980, in _create_direct_connection\n",
      "    transp, proto = await self._wrap_create_connection(\n",
      "  File \"c:\\users\\cooda\\appdata\\local\\programs\\python\\python38-32\\lib\\site-packages\\aiohttp\\connector.py\", line 943, in _wrap_create_connection\n",
      "    raise client_error(req.connection_key, exc) from exc\n",
      "aiohttp.client_exceptions.ClientConnectorError: Cannot connect to host productcenter.ru:443 ssl:default [Connect call failed ('92.63.110.175', 443)]\n"
     ]
    },
    {
     "name": "stdout",
     "output_type": "stream",
     "text": [
      "0/8448\n"
     ]
    },
    {
     "name": "stderr",
     "output_type": "stream",
     "text": [
      "Task exception was never retrieved\n",
      "future: <Task finished name='Task-454' coro=<scrape_task() done, defined at <ipython-input-56-a988e1cc6e67>:35> exception=AttributeError(\"'ClientResponse' object has no attribute 'status_code'\")>\n",
      "Traceback (most recent call last):\n",
      "  File \"<ipython-input-56-a988e1cc6e67>\", line 36, in scrape_task\n",
      "    content = await get_content(url)\n",
      "  File \"<ipython-input-56-a988e1cc6e67>\", line 6, in get_content\n",
      "    print(resp.status_code)\n",
      "AttributeError: 'ClientResponse' object has no attribute 'status_code'\n",
      "Task exception was never retrieved\n",
      "future: <Task finished name='Task-455' coro=<scrape_task() done, defined at <ipython-input-56-a988e1cc6e67>:35> exception=AttributeError(\"'ClientResponse' object has no attribute 'status_code'\")>\n",
      "Traceback (most recent call last):\n",
      "  File \"<ipython-input-56-a988e1cc6e67>\", line 36, in scrape_task\n",
      "    content = await get_content(url)\n",
      "  File \"<ipython-input-56-a988e1cc6e67>\", line 6, in get_content\n",
      "    print(resp.status_code)\n",
      "AttributeError: 'ClientResponse' object has no attribute 'status_code'\n"
     ]
    },
    {
     "name": "stdout",
     "output_type": "stream",
     "text": [
      "1/8448\n"
     ]
    },
    {
     "name": "stderr",
     "output_type": "stream",
     "text": [
      "Task exception was never retrieved\n",
      "future: <Task finished name='Task-461' coro=<scrape_task() done, defined at <ipython-input-56-a988e1cc6e67>:35> exception=AttributeError(\"'ClientResponse' object has no attribute 'status_code'\")>\n",
      "Traceback (most recent call last):\n",
      "  File \"<ipython-input-56-a988e1cc6e67>\", line 36, in scrape_task\n",
      "    content = await get_content(url)\n",
      "  File \"<ipython-input-56-a988e1cc6e67>\", line 6, in get_content\n",
      "    print(resp.status_code)\n",
      "AttributeError: 'ClientResponse' object has no attribute 'status_code'\n",
      "Task exception was never retrieved\n",
      "future: <Task finished name='Task-460' coro=<scrape_task() done, defined at <ipython-input-56-a988e1cc6e67>:35> exception=AttributeError(\"'ClientResponse' object has no attribute 'status_code'\")>\n",
      "Traceback (most recent call last):\n",
      "  File \"<ipython-input-56-a988e1cc6e67>\", line 36, in scrape_task\n",
      "    content = await get_content(url)\n",
      "  File \"<ipython-input-56-a988e1cc6e67>\", line 6, in get_content\n",
      "    print(resp.status_code)\n",
      "AttributeError: 'ClientResponse' object has no attribute 'status_code'\n"
     ]
    },
    {
     "name": "stdout",
     "output_type": "stream",
     "text": [
      "2/8448\n"
     ]
    },
    {
     "name": "stderr",
     "output_type": "stream",
     "text": [
      "Task exception was never retrieved\n",
      "future: <Task finished name='Task-467' coro=<scrape_task() done, defined at <ipython-input-56-a988e1cc6e67>:35> exception=AttributeError(\"'ClientResponse' object has no attribute 'status_code'\")>\n",
      "Traceback (most recent call last):\n",
      "  File \"<ipython-input-56-a988e1cc6e67>\", line 36, in scrape_task\n",
      "    content = await get_content(url)\n",
      "  File \"<ipython-input-56-a988e1cc6e67>\", line 6, in get_content\n",
      "    print(resp.status_code)\n",
      "AttributeError: 'ClientResponse' object has no attribute 'status_code'\n",
      "Task exception was never retrieved\n",
      "future: <Task finished name='Task-466' coro=<scrape_task() done, defined at <ipython-input-56-a988e1cc6e67>:35> exception=AttributeError(\"'ClientResponse' object has no attribute 'status_code'\")>\n",
      "Traceback (most recent call last):\n",
      "  File \"<ipython-input-56-a988e1cc6e67>\", line 36, in scrape_task\n",
      "    content = await get_content(url)\n",
      "  File \"<ipython-input-56-a988e1cc6e67>\", line 6, in get_content\n",
      "    print(resp.status_code)\n",
      "AttributeError: 'ClientResponse' object has no attribute 'status_code'\n"
     ]
    },
    {
     "name": "stdout",
     "output_type": "stream",
     "text": [
      "3/8448\n"
     ]
    },
    {
     "name": "stderr",
     "output_type": "stream",
     "text": [
      "Task exception was never retrieved\n",
      "future: <Task finished name='Task-472' coro=<scrape_task() done, defined at <ipython-input-56-a988e1cc6e67>:35> exception=AttributeError(\"'ClientResponse' object has no attribute 'status_code'\")>\n",
      "Traceback (most recent call last):\n",
      "  File \"<ipython-input-56-a988e1cc6e67>\", line 36, in scrape_task\n",
      "    content = await get_content(url)\n",
      "  File \"<ipython-input-56-a988e1cc6e67>\", line 6, in get_content\n",
      "    print(resp.status_code)\n",
      "AttributeError: 'ClientResponse' object has no attribute 'status_code'\n",
      "Task exception was never retrieved\n",
      "future: <Task finished name='Task-473' coro=<scrape_task() done, defined at <ipython-input-56-a988e1cc6e67>:35> exception=AttributeError(\"'ClientResponse' object has no attribute 'status_code'\")>\n",
      "Traceback (most recent call last):\n",
      "  File \"<ipython-input-56-a988e1cc6e67>\", line 36, in scrape_task\n",
      "    content = await get_content(url)\n",
      "  File \"<ipython-input-56-a988e1cc6e67>\", line 6, in get_content\n",
      "    print(resp.status_code)\n",
      "AttributeError: 'ClientResponse' object has no attribute 'status_code'\n"
     ]
    },
    {
     "name": "stdout",
     "output_type": "stream",
     "text": [
      "4/8448\n"
     ]
    },
    {
     "name": "stderr",
     "output_type": "stream",
     "text": [
      "Task exception was never retrieved\n",
      "future: <Task finished name='Task-478' coro=<scrape_task() done, defined at <ipython-input-56-a988e1cc6e67>:35> exception=AttributeError(\"'ClientResponse' object has no attribute 'status_code'\")>\n",
      "Traceback (most recent call last):\n",
      "  File \"<ipython-input-56-a988e1cc6e67>\", line 36, in scrape_task\n",
      "    content = await get_content(url)\n",
      "  File \"<ipython-input-56-a988e1cc6e67>\", line 6, in get_content\n",
      "    print(resp.status_code)\n",
      "AttributeError: 'ClientResponse' object has no attribute 'status_code'\n",
      "Task exception was never retrieved\n",
      "future: <Task finished name='Task-479' coro=<scrape_task() done, defined at <ipython-input-56-a988e1cc6e67>:35> exception=AttributeError(\"'ClientResponse' object has no attribute 'status_code'\")>\n",
      "Traceback (most recent call last):\n",
      "  File \"<ipython-input-56-a988e1cc6e67>\", line 36, in scrape_task\n",
      "    content = await get_content(url)\n",
      "  File \"<ipython-input-56-a988e1cc6e67>\", line 6, in get_content\n",
      "    print(resp.status_code)\n",
      "AttributeError: 'ClientResponse' object has no attribute 'status_code'\n"
     ]
    },
    {
     "name": "stdout",
     "output_type": "stream",
     "text": [
      "5/8448\n"
     ]
    },
    {
     "ename": "CancelledError",
     "evalue": "",
     "output_type": "error",
     "traceback": [
      "\u001b[1;31m---------------------------------------------------------------------------\u001b[0m",
      "\u001b[1;31mCancelledError\u001b[0m                            Traceback (most recent call last)",
      "\u001b[1;32m<ipython-input-56-a988e1cc6e67>\u001b[0m in \u001b[0;36m<module>\u001b[1;34m\u001b[0m\n\u001b[0;32m     42\u001b[0m         \u001b[0mtasks\u001b[0m \u001b[1;33m=\u001b[0m \u001b[1;33m[\u001b[0m\u001b[0mscrape_task\u001b[0m\u001b[1;33m(\u001b[0m\u001b[1;34m'https://productcenter.ru'\u001b[0m\u001b[1;33m+\u001b[0m\u001b[0murl\u001b[0m\u001b[1;33m)\u001b[0m \u001b[1;32mfor\u001b[0m \u001b[0murl\u001b[0m \u001b[1;32min\u001b[0m \u001b[0mhrefs\u001b[0m\u001b[1;33m]\u001b[0m\u001b[1;33m\u001b[0m\u001b[1;33m\u001b[0m\u001b[0m\n\u001b[0;32m     43\u001b[0m         \u001b[1;32mawait\u001b[0m \u001b[0masyncio\u001b[0m\u001b[1;33m.\u001b[0m\u001b[0mwait\u001b[0m\u001b[1;33m(\u001b[0m\u001b[0mtasks\u001b[0m\u001b[1;33m)\u001b[0m\u001b[1;33m\u001b[0m\u001b[1;33m\u001b[0m\u001b[0m\n\u001b[1;32m---> 44\u001b[1;33m \u001b[1;32mawait\u001b[0m \u001b[0mmain\u001b[0m\u001b[1;33m(\u001b[0m\u001b[1;33m)\u001b[0m\u001b[1;33m\u001b[0m\u001b[1;33m\u001b[0m\u001b[0m\n\u001b[0m",
      "\u001b[1;32m<ipython-input-56-a988e1cc6e67>\u001b[0m in \u001b[0;36mmain\u001b[1;34m()\u001b[0m\n\u001b[0;32m     41\u001b[0m         \u001b[0mprint\u001b[0m\u001b[1;33m(\u001b[0m\u001b[1;34mf'{i}/{len(parsing_hrefs)}'\u001b[0m\u001b[1;33m)\u001b[0m\u001b[1;33m\u001b[0m\u001b[1;33m\u001b[0m\u001b[0m\n\u001b[0;32m     42\u001b[0m         \u001b[0mtasks\u001b[0m \u001b[1;33m=\u001b[0m \u001b[1;33m[\u001b[0m\u001b[0mscrape_task\u001b[0m\u001b[1;33m(\u001b[0m\u001b[1;34m'https://productcenter.ru'\u001b[0m\u001b[1;33m+\u001b[0m\u001b[0murl\u001b[0m\u001b[1;33m)\u001b[0m \u001b[1;32mfor\u001b[0m \u001b[0murl\u001b[0m \u001b[1;32min\u001b[0m \u001b[0mhrefs\u001b[0m\u001b[1;33m]\u001b[0m\u001b[1;33m\u001b[0m\u001b[1;33m\u001b[0m\u001b[0m\n\u001b[1;32m---> 43\u001b[1;33m         \u001b[1;32mawait\u001b[0m \u001b[0masyncio\u001b[0m\u001b[1;33m.\u001b[0m\u001b[0mwait\u001b[0m\u001b[1;33m(\u001b[0m\u001b[0mtasks\u001b[0m\u001b[1;33m)\u001b[0m\u001b[1;33m\u001b[0m\u001b[1;33m\u001b[0m\u001b[0m\n\u001b[0m\u001b[0;32m     44\u001b[0m \u001b[1;32mawait\u001b[0m \u001b[0mmain\u001b[0m\u001b[1;33m(\u001b[0m\u001b[1;33m)\u001b[0m\u001b[1;33m\u001b[0m\u001b[1;33m\u001b[0m\u001b[0m\n",
      "\u001b[1;32mc:\\users\\cooda\\appdata\\local\\programs\\python\\python38-32\\lib\\asyncio\\tasks.py\u001b[0m in \u001b[0;36mwait\u001b[1;34m(fs, loop, timeout, return_when)\u001b[0m\n\u001b[0;32m    424\u001b[0m     \u001b[0mfs\u001b[0m \u001b[1;33m=\u001b[0m \u001b[1;33m{\u001b[0m\u001b[0mensure_future\u001b[0m\u001b[1;33m(\u001b[0m\u001b[0mf\u001b[0m\u001b[1;33m,\u001b[0m \u001b[0mloop\u001b[0m\u001b[1;33m=\u001b[0m\u001b[0mloop\u001b[0m\u001b[1;33m)\u001b[0m \u001b[1;32mfor\u001b[0m \u001b[0mf\u001b[0m \u001b[1;32min\u001b[0m \u001b[0mset\u001b[0m\u001b[1;33m(\u001b[0m\u001b[0mfs\u001b[0m\u001b[1;33m)\u001b[0m\u001b[1;33m}\u001b[0m\u001b[1;33m\u001b[0m\u001b[1;33m\u001b[0m\u001b[0m\n\u001b[0;32m    425\u001b[0m \u001b[1;33m\u001b[0m\u001b[0m\n\u001b[1;32m--> 426\u001b[1;33m     \u001b[1;32mreturn\u001b[0m \u001b[1;32mawait\u001b[0m \u001b[0m_wait\u001b[0m\u001b[1;33m(\u001b[0m\u001b[0mfs\u001b[0m\u001b[1;33m,\u001b[0m \u001b[0mtimeout\u001b[0m\u001b[1;33m,\u001b[0m \u001b[0mreturn_when\u001b[0m\u001b[1;33m,\u001b[0m \u001b[0mloop\u001b[0m\u001b[1;33m)\u001b[0m\u001b[1;33m\u001b[0m\u001b[1;33m\u001b[0m\u001b[0m\n\u001b[0m\u001b[0;32m    427\u001b[0m \u001b[1;33m\u001b[0m\u001b[0m\n\u001b[0;32m    428\u001b[0m \u001b[1;33m\u001b[0m\u001b[0m\n",
      "\u001b[1;32mc:\\users\\cooda\\appdata\\local\\programs\\python\\python38-32\\lib\\asyncio\\tasks.py\u001b[0m in \u001b[0;36m_wait\u001b[1;34m(fs, timeout, return_when, loop)\u001b[0m\n\u001b[0;32m    521\u001b[0m \u001b[1;33m\u001b[0m\u001b[0m\n\u001b[0;32m    522\u001b[0m     \u001b[1;32mtry\u001b[0m\u001b[1;33m:\u001b[0m\u001b[1;33m\u001b[0m\u001b[1;33m\u001b[0m\u001b[0m\n\u001b[1;32m--> 523\u001b[1;33m         \u001b[1;32mawait\u001b[0m \u001b[0mwaiter\u001b[0m\u001b[1;33m\u001b[0m\u001b[1;33m\u001b[0m\u001b[0m\n\u001b[0m\u001b[0;32m    524\u001b[0m     \u001b[1;32mfinally\u001b[0m\u001b[1;33m:\u001b[0m\u001b[1;33m\u001b[0m\u001b[1;33m\u001b[0m\u001b[0m\n\u001b[0;32m    525\u001b[0m         \u001b[1;32mif\u001b[0m \u001b[0mtimeout_handle\u001b[0m \u001b[1;32mis\u001b[0m \u001b[1;32mnot\u001b[0m \u001b[1;32mNone\u001b[0m\u001b[1;33m:\u001b[0m\u001b[1;33m\u001b[0m\u001b[1;33m\u001b[0m\u001b[0m\n",
      "\u001b[1;31mCancelledError\u001b[0m: "
     ]
    }
   ],
   "source": [
    "data = set([])\n",
    "\n",
    "async def get_content(url):\n",
    "    async with aiohttp.ClientSession() as session:\n",
    "        async with session.get(url) as resp:\n",
    "            content = await resp.read()\n",
    "            return content\n",
    "        \n",
    "async def parse_data(content):\n",
    "    soup = BeautifulSoup(content, 'html.parser')\n",
    "    \n",
    "    name = soup.find('h1', class_='cfix').next_element\n",
    "    phone = soup.find('span', {'itemprop':'telephone'})\n",
    "    if phone:\n",
    "        phone=phone.next_element\n",
    "    email = soup.find('span', {'itemprop':'email'})\n",
    "    if email:\n",
    "        email = email.next_element\n",
    "    url = soup.find('a', {'itemprop':'url'})\n",
    "    if url:\n",
    "        url = url.next_element\n",
    "    address = soup.find('span', {'itemprop':'addressRegion'}).next_element + ' ' + soup.find('span', {'itemprop':'addressLocality'}).next_element + ' ' + soup.find('span', {'itemprop':'streetAddress'}).next_element\n",
    "    \n",
    "    divs = soup.find('div', class_='bc_text').find_all('li')\n",
    "    inn = entity = ''\n",
    "    for div in divs:\n",
    "        if div.next_element.next_element=='Юридическое лицо':\n",
    "            entity = div.text\n",
    "        elif div.next_element.next_element=='ИНН':\n",
    "            inn = div.text\n",
    "    data.add((name, inn, entity, phone, email, url, address))\n",
    "    \n",
    "    \n",
    "async def scrape_task(url):\n",
    "    content = await get_content(url)\n",
    "    await parse_data(content)\n",
    "    \n",
    "async def main():\n",
    "    for i, hrefs in enumerate(parsing_hrefs):\n",
    "        print(f'{i}/{len(parsing_hrefs)}')\n",
    "        tasks = [scrape_task('https://productcenter.ru'+url) for url in hrefs]\n",
    "        await asyncio.wait(tasks)\n",
    "await main()"
   ]
  },
  {
   "cell_type": "code",
   "execution_count": null,
   "metadata": {},
   "outputs": [],
   "source": [
    "data = set([])"
   ]
  },
  {
   "cell_type": "code",
   "execution_count": null,
   "metadata": {},
   "outputs": [],
   "source": [
    "for i, href in enumerate(parsing_hrefs):\n",
    "    print(f'{i}/{len(parsing_hrefs)}')\n",
    "    try:\n",
    "        response = requests.get('https://productcenter.ru'+href)\n",
    "    except Exception:\n",
    "        time.sleep(5)\n",
    "    if not response.status_code==200:\n",
    "        continue\n",
    "    try:\n",
    "        soup = BeautifulSoup(response.content)\n",
    "    except Exception:\n",
    "        continue\n",
    "    name = soup.find('h1', class_='cfix').next_element\n",
    "    phone = soup.find('span', {'itemprop':'telephone'})\n",
    "    if phone:\n",
    "        phone=phone.next_element\n",
    "    email = soup.find('span', {'itemprop':'email'})\n",
    "    if email:\n",
    "        email = email.next_element\n",
    "    url = soup.find('a', {'itemprop':'url'})\n",
    "    if url:\n",
    "        url = url.next_element\n",
    "    address = soup.find('span', {'itemprop':'addressRegion'}).next_element + ' ' + soup.find('span', {'itemprop':'addressLocality'}).next_element + ' ' + soup.find('span', {'itemprop':'streetAddress'}).next_element\n",
    "    \n",
    "    divs = soup.find('div', class_='bc_text').find_all('li')\n",
    "    inn = entity = ''\n",
    "    for div in divs:\n",
    "        if div.next_element.next_element=='Юридическое лицо':\n",
    "            entity = div.text\n",
    "        elif div.next_element.next_element=='ИНН':\n",
    "            inn = div.text\n",
    "    data.add((name, inn, entity, phone, email, url, address))\n",
    "    clear_output()"
   ]
  },
  {
   "cell_type": "code",
   "execution_count": 45,
   "metadata": {},
   "outputs": [],
   "source": [
    "a = requests.get('https://productcenter.ru/producers/6456/ooo-novosibirskii-zavod-bytovoi-khimii')"
   ]
  },
  {
   "cell_type": "code",
   "execution_count": 55,
   "metadata": {},
   "outputs": [
    {
     "data": {
      "text/plain": [
       "set()"
      ]
     },
     "execution_count": 55,
     "metadata": {},
     "output_type": "execute_result"
    }
   ],
   "source": [
    "data"
   ]
  },
  {
   "cell_type": "code",
   "execution_count": null,
   "metadata": {},
   "outputs": [],
   "source": []
  }
 ],
 "metadata": {
  "kernelspec": {
   "display_name": "Python 3",
   "language": "python",
   "name": "python3"
  },
  "language_info": {
   "codemirror_mode": {
    "name": "ipython",
    "version": 3
   },
   "file_extension": ".py",
   "mimetype": "text/x-python",
   "name": "python",
   "nbconvert_exporter": "python",
   "pygments_lexer": "ipython3",
   "version": "3.8.5"
  }
 },
 "nbformat": 4,
 "nbformat_minor": 4
}
